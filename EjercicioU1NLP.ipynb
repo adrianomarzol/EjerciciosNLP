{
  "nbformat": 4,
  "nbformat_minor": 0,
  "metadata": {
    "colab": {
      "provenance": []
    },
    "kernelspec": {
      "name": "python3",
      "display_name": "Python 3"
    },
    "language_info": {
      "name": "python"
    }
  },
  "cells": [
    {
      "cell_type": "markdown",
      "source": [
        "Ejercicio 0:\n",
        "\n",
        "En el campus se encuentran dos archivos en la carpeta \"Ejemplos codificacion\". Investíguelos con las herramientas vistas en clase puede usar también la herramienta hewdump para verlos por dentro.\n",
        "\n",
        "Pruebe intencionalmente abrir el archivo con la codificación equivocada(abra el UTF-8 como 8859-15) y compare las salidas."
      ],
      "metadata": {
        "id": "ms-PWAx5U4T7"
      }
    },
    {
      "cell_type": "code",
      "source": [
        "#Abrir archivo con codificacion UTF-8:\n",
        "with open('/content/EJEMPLO DE UTF-8.txt', 'r', encoding='utf-8') as archivo:\n",
        "    contenido = archivo.read()\n",
        "\n",
        "print(contenido)\n",
        "\n",
        "#Abrir archivo con codificacion 8859-15:\n",
        "with open('/content/EJEMPLO DE 8859-15.txt', 'r', encoding='iso-8859-1') as archivo:\n",
        "    contenido = archivo.read()\n",
        "\n",
        "print(contenido)\n",
        "\n",
        "#Abrir archivo con codificacion equivocada:\n",
        "\"\"\"\n",
        "Salta un error\n",
        "\n",
        "with open('/content/EJEMPLO DE 8859-15.txt', 'r', encoding='utf-8') as archivo:\n",
        "    contenido = archivo.read()\n",
        "\n",
        "print(contenido)\n",
        "\"\"\""
      ],
      "metadata": {
        "id": "N5NxblcTVuzL"
      },
      "execution_count": null,
      "outputs": []
    },
    {
      "cell_type": "markdown",
      "source": [
        "Ejercicio 1:\n",
        "\n",
        "Con los archivos pedidios en diferentes formatos(pdf, jpg, entre otros) la clase anterior, extraiga la información que considere relevante de los mismos utilizando las librerías desarrolladas en clase:\n",
        "\n",
        "I- Obtenga el texto de un libro escaneado en pdf(un pdf que no contenga el texto codificado como tal, es decir, que sea necesario usar ocr). Pruebe usando pytesseract en ingles(por defecto) y luego configurandolo en español.\n",
        "\n",
        "II- Obtenga el texto de una imagen(png, bmp).\n",
        "\n",
        "III- Obtenga el texto de un archivo word.\n",
        "\n",
        "IV- Obtenga el texto de un archivo de audio.\n",
        "\n",
        "Si no tienes suficientes recursos considere usar las páginas archive.org, epdlp.com, ciudadseva.com para conseguir los archivos.\n",
        "\n",
        "Opcional: Para las imágenes de facturas y recibos, extraiga información de los mismos con el objetivo de identificar los movimientos de gasto para el/los periodo/s a que se correspondan, y genere una salida en pantalla con un resumen para el total de movimientos."
      ],
      "metadata": {
        "id": "zmmiXcvuX1fC"
      }
    },
    {
      "cell_type": "code",
      "source": [],
      "metadata": {
        "id": "jtSfYYlmX1D7"
      },
      "execution_count": null,
      "outputs": []
    },
    {
      "cell_type": "markdown",
      "source": [
        "Ejercicio 2:\n",
        "\n",
        "El Ministerio de Turismo y Deportes de la Nación permite explorar\n",
        "tableros de información en línea tableros.yvera.tur.ar. Explore la página y utilizando\n",
        "una librería de web scraping extraiga los valores del tablero de indicadores de\n",
        "Objetivos de Desarrollo Sostenible en una tabla y el texto limpio de la metodología\n",
        "de los mismos."
      ],
      "metadata": {
        "id": "jnWBb5HRsCFA"
      }
    },
    {
      "cell_type": "code",
      "source": [
        "#Instalación librerias:\n",
        "!pip install beautifulsoup4"
      ],
      "metadata": {
        "colab": {
          "base_uri": "https://localhost:8080/"
        },
        "id": "SNN43GXmiqqE",
        "outputId": "9eebdf0f-5315-4e51-bcf0-2c4019e2c44a"
      },
      "execution_count": null,
      "outputs": [
        {
          "output_type": "stream",
          "name": "stdout",
          "text": [
            "Requirement already satisfied: beautifulsoup4 in /usr/local/lib/python3.10/dist-packages (4.12.3)\n",
            "Requirement already satisfied: soupsieve>1.2 in /usr/local/lib/python3.10/dist-packages (from beautifulsoup4) (2.5)\n"
          ]
        }
      ]
    },
    {
      "cell_type": "code",
      "source": [
        "import requests\n",
        "from bs4 import BeautifulSoup\n",
        "\n",
        "url = \"https://tableros.yvera.tur.ar/tablero_ODS/\"\n",
        "\n",
        "response = requests.get(url, verify=False)\n",
        "soup = BeautifulSoup(response.text, 'html.parser')\n",
        "\n",
        "div_inner = soup.find_all('div', class_='inner')\n",
        "uls = soup.find_all('ul')\n",
        "\n",
        "contenido = []\n",
        "\n",
        "for div in div_inner:\n",
        "    parrafos = div.find_all('p')\n",
        "    for p in parrafos:\n",
        "        contenido.append(p.text)\n",
        "\n",
        "print(contenido)\n",
        "\n",
        "for ul in uls:\n",
        "    descripciones = ul.find_all('p')\n",
        "    for d in descripciones:\n",
        "        print(d.text)"
      ],
      "metadata": {
        "id": "w9ysRuNVi71n",
        "colab": {
          "base_uri": "https://localhost:8080/"
        },
        "outputId": "edab1ffe-1d3d-43fb-d483-2a66ffb66525"
      },
      "execution_count": null,
      "outputs": [
        {
          "output_type": "stream",
          "name": "stderr",
          "text": [
            "/usr/local/lib/python3.10/dist-packages/urllib3/connectionpool.py:1100: InsecureRequestWarning: Unverified HTTPS request is being made to host 'tableros.yvera.tur.ar'. Adding certificate verification is strongly advised. See: https://urllib3.readthedocs.io/en/latest/advanced-usage.html#tls-warnings\n",
            "  warnings.warn(\n"
          ]
        },
        {
          "output_type": "stream",
          "name": "stdout",
          "text": [
            "['1,2 M', '\\nPuestos de trabajo en industrias turísticas (2022)\\n', 'Puestos de trabajo en industrias turísticas (2022)', '44,43%', '\\nTasa de informalidad del empleo asalariado turístico (2022)\\n', 'Tasa de informalidad del empleo asalariado turístico (2022)', '1,68%', '\\nPIB turístico respecto del PIB total (2022)\\n', 'PIB turístico respecto del PIB total (2022)', '33,2%', '\\nPropensión a viajar (2022)\\n', 'Propensión a viajar (2022)', '34,1', '\\nÍndice de Gini de viajes turísticos (2022)\\n', 'Índice de Gini de viajes turísticos (2022)', '36,4', '\\nÍndice de Gini de viajes turísticos de ocio (2022)\\n', 'Índice de Gini de viajes turísticos de ocio (2022)', '44,1', '\\nÍndice de Gini del gasto turístico (2022)\\n', 'Índice de Gini del gasto turístico (2022)']\n",
            "\n",
            " • Puestos de trabajo en industrias turísticas\n",
            "                              : Surge de la suma de los puestos de trabajo existentes en\n",
            "                                               los establecimientos pertenecientes a las ramas de actividad clasificadas como características del turismo. \n",
            "                                               Incluye puestos de trabajo asalariados (registrados y no registrados) y no asalariados.\n",
            "                            \n",
            "\n",
            " • Tasa de informalidad en el empleo asalariado turístico\n",
            "                              : Proporción de puestos de trabajo asalariados no registrados\n",
            "                                               con respecto al total de puestos de trabajo asalariados, en porcentaje, para ramas características del turismo.\n",
            "                            \n",
            "\n",
            " • PIB turístico respecto del PIB total\n",
            "                              : la parte del PIB de la economía total atribuible directamente\n",
            "                                        al consumo turístico realizado dentro de la Argentina, ya sea por visitantes residentes o no residentes, como porcentaje del PIB total.\n",
            "                            \n",
            "\n",
            " • Propensión a viajar \n",
            "                              : Proporción de la población que realizó al menos un viaje con pernocte durante el año de referencia.\n",
            "                            \n",
            "\n",
            " • Índice de Gini de viajes turísticos \n",
            "                              : Medida de desigualdad habitual, aplicada a la cantidad total de viajes turísticos \n",
            "                                               realizados según quintil de ingresos de los hogares. Valores más cercanos a 0 implican mayor igualdad, mientras que valores más próximos a 100 reflejan una mayor desigualdad en la distribución de los viajes turísticos según ingresos de la población.\n",
            "                            \n",
            "\n",
            " • Índice de Gini de viajes turísticos de ocio \n",
            "                              : El indicador, en este caso, tiene en cuenta únicamente los viajes con motivo de 'esparcimiento, ocio y recreación',\n",
            "                                               excluyéndose aquellos relacionados con la visita a familiares y amigos; trabajo, negocios, motivos profesionales; y otros.\n",
            "                            \n",
            "\n",
            " • Índice de Gini del gasto turístico \n",
            "                              : Medida de desigualdad aplicada al gasto que los hogares tuvieron en el viaje, según quintil \n",
            "                                               de ingresos de los hogares.\n",
            "                            \n"
          ]
        }
      ]
    },
    {
      "cell_type": "markdown",
      "source": [
        "Ejercicio 7:\n",
        "\n",
        "En la siguiente carpeta,\n",
        "https://drive.google.com/drive/folders/1iCiOQ8P8CHFFLKiWc2li9-x3Ud-Tl0po?usp=drive_link\n",
        "podrá descargar recursos que presentan algunos desafios para la extracción de\n",
        "texto. Practique los códigos y librerías propuestos en la Unidad 1 y compare los\n",
        "resultados con sus compañer@s."
      ],
      "metadata": {
        "id": "9X7VAhDGznTn"
      }
    },
    {
      "cell_type": "markdown",
      "source": [
        "1 - Extracción del archivo: PROYECTO DE LEY TURISMO SOCIAL 2004.pdf"
      ],
      "metadata": {
        "id": "WuPTdwWGPE_e"
      }
    },
    {
      "cell_type": "code",
      "source": [
        "!pip install PyPDF2"
      ],
      "metadata": {
        "id": "qNEvfB-HNwou"
      },
      "execution_count": null,
      "outputs": []
    },
    {
      "cell_type": "code",
      "source": [
        "import PyPDF2\n",
        "\n",
        "with open('/content/PROYECTO DE LEY TURISMO SOCIAL 2004.pdf', 'rb'):\n",
        "    lector = PyPDF2.PdfReader('PROYECTO DE LEY TURISMO SOCIAL 2004.pdf')\n",
        "\n",
        "texto = \"\"\n",
        "\n",
        "for i in range(len(lector.pages)):\n",
        "    pagina = lector.pages[i]\n",
        "\n",
        "    texto += pagina.extract_text()\n",
        "\n",
        "print(texto)"
      ],
      "metadata": {
        "id": "Jms7gSyB4LrI"
      },
      "execution_count": null,
      "outputs": []
    },
    {
      "cell_type": "markdown",
      "source": [
        "2 - Extraccion del archivo: covers.txt"
      ],
      "metadata": {
        "id": "_QYrr5OYPMB8"
      }
    },
    {
      "cell_type": "code",
      "source": [
        "with open('/content/covers.txt', 'r') as archivo:\n",
        "    contenido = archivo.read()\n",
        "\n",
        "print(contenido)"
      ],
      "metadata": {
        "id": "L1Pc16tKQXpC"
      },
      "execution_count": null,
      "outputs": []
    },
    {
      "cell_type": "markdown",
      "source": [
        "3 - Extracción del archivo: Métodos Estadísticos 1 - Ruggieri.pdf"
      ],
      "metadata": {
        "id": "7cNee4xmRU9C"
      }
    },
    {
      "cell_type": "code",
      "source": [
        "!pip install pdf2image\n",
        "!apt-get install -y poppler-utils"
      ],
      "metadata": {
        "colab": {
          "base_uri": "https://localhost:8080/"
        },
        "id": "WjGc5n8RRek8",
        "outputId": "70b68f0b-43c5-4531-93ba-54e1bedbac74"
      },
      "execution_count": null,
      "outputs": [
        {
          "output_type": "stream",
          "name": "stdout",
          "text": [
            "Collecting pdf2image\n",
            "  Downloading pdf2image-1.17.0-py3-none-any.whl (11 kB)\n",
            "Requirement already satisfied: pillow in /usr/local/lib/python3.10/dist-packages (from pdf2image) (9.4.0)\n",
            "Installing collected packages: pdf2image\n",
            "Successfully installed pdf2image-1.17.0\n",
            "Reading package lists... Done\n",
            "Building dependency tree... Done\n",
            "Reading state information... Done\n",
            "The following NEW packages will be installed:\n",
            "  poppler-utils\n",
            "0 upgraded, 1 newly installed, 0 to remove and 45 not upgraded.\n",
            "Need to get 186 kB of archives.\n",
            "After this operation, 696 kB of additional disk space will be used.\n",
            "Get:1 http://archive.ubuntu.com/ubuntu jammy-updates/main amd64 poppler-utils amd64 22.02.0-2ubuntu0.3 [186 kB]\n",
            "Fetched 186 kB in 0s (1,760 kB/s)\n",
            "Selecting previously unselected package poppler-utils.\n",
            "(Reading database ... 121752 files and directories currently installed.)\n",
            "Preparing to unpack .../poppler-utils_22.02.0-2ubuntu0.3_amd64.deb ...\n",
            "Unpacking poppler-utils (22.02.0-2ubuntu0.3) ...\n",
            "Setting up poppler-utils (22.02.0-2ubuntu0.3) ...\n",
            "Processing triggers for man-db (2.10.2-1) ...\n"
          ]
        }
      ]
    },
    {
      "cell_type": "code",
      "source": [
        "from pdf2image import convert_from_path\n",
        "\n",
        "imagenes = convert_from_path('/content/Métodos Estadísticos 1 - Ruggieri.pdf')\n",
        "\n",
        "for i, imagen in enumerate(imagenes):\n",
        "    imagen.save('pagina{}.png'.format(i), 'PNG')\n",
        "    if i == 1:\n",
        "        break"
      ],
      "metadata": {
        "id": "_r5WUHBUSNOq"
      },
      "execution_count": null,
      "outputs": []
    },
    {
      "cell_type": "code",
      "source": [
        "!pip install easyocr"
      ],
      "metadata": {
        "id": "shtcoNQbUBgG"
      },
      "execution_count": null,
      "outputs": []
    },
    {
      "cell_type": "code",
      "source": [
        "#Extraigo el texto de la pagina0.png\n",
        "\n",
        "import easyocr\n",
        "\n",
        "lector = easyocr.Reader(['es'])\n",
        "\n",
        "texto = []\n",
        "\n",
        "resultado = lector.readtext('/content/pagina0.png')\n",
        "\n",
        "for ubicacion, texto, _ in resultado:\n",
        "  print(f\"Texto: {texto}, ubicacion:{ubicacion}\")\n"
      ],
      "metadata": {
        "id": "DLQhXIdGUecA"
      },
      "execution_count": null,
      "outputs": []
    }
  ]
}